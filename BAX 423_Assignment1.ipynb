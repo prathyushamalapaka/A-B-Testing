{
 "cells": [
  {
   "cell_type": "markdown",
   "id": "f53fde08",
   "metadata": {},
   "source": [
    "# Exercise 1: Game Fun: Customer Acquisition through Digital Advertising"
   ]
  },
  {
   "cell_type": "code",
   "execution_count": 191,
   "id": "524f6ca2",
   "metadata": {},
   "outputs": [
    {
     "data": {
      "text/html": [
       "<div>\n",
       "<style scoped>\n",
       "    .dataframe tbody tr th:only-of-type {\n",
       "        vertical-align: middle;\n",
       "    }\n",
       "\n",
       "    .dataframe tbody tr th {\n",
       "        vertical-align: top;\n",
       "    }\n",
       "\n",
       "    .dataframe thead th {\n",
       "        text-align: right;\n",
       "    }\n",
       "</style>\n",
       "<table border=\"1\" class=\"dataframe\">\n",
       "  <thead>\n",
       "    <tr style=\"text-align: right;\">\n",
       "      <th></th>\n",
       "      <th>id</th>\n",
       "      <th>test</th>\n",
       "      <th>purchase</th>\n",
       "      <th>site</th>\n",
       "      <th>impressions</th>\n",
       "      <th>income</th>\n",
       "      <th>gender</th>\n",
       "      <th>gamer</th>\n",
       "    </tr>\n",
       "  </thead>\n",
       "  <tbody>\n",
       "    <tr>\n",
       "      <th>0</th>\n",
       "      <td>1956</td>\n",
       "      <td>0</td>\n",
       "      <td>0</td>\n",
       "      <td>site1</td>\n",
       "      <td>0</td>\n",
       "      <td>100</td>\n",
       "      <td>1</td>\n",
       "      <td>0</td>\n",
       "    </tr>\n",
       "    <tr>\n",
       "      <th>1</th>\n",
       "      <td>45821</td>\n",
       "      <td>1</td>\n",
       "      <td>0</td>\n",
       "      <td>site1</td>\n",
       "      <td>20</td>\n",
       "      <td>70</td>\n",
       "      <td>1</td>\n",
       "      <td>0</td>\n",
       "    </tr>\n",
       "    <tr>\n",
       "      <th>2</th>\n",
       "      <td>59690</td>\n",
       "      <td>1</td>\n",
       "      <td>0</td>\n",
       "      <td>site1</td>\n",
       "      <td>22</td>\n",
       "      <td>100</td>\n",
       "      <td>1</td>\n",
       "      <td>0</td>\n",
       "    </tr>\n",
       "    <tr>\n",
       "      <th>3</th>\n",
       "      <td>18851</td>\n",
       "      <td>0</td>\n",
       "      <td>0</td>\n",
       "      <td>site1</td>\n",
       "      <td>13</td>\n",
       "      <td>90</td>\n",
       "      <td>1</td>\n",
       "      <td>0</td>\n",
       "    </tr>\n",
       "    <tr>\n",
       "      <th>4</th>\n",
       "      <td>60647</td>\n",
       "      <td>1</td>\n",
       "      <td>0</td>\n",
       "      <td>site1</td>\n",
       "      <td>12</td>\n",
       "      <td>60</td>\n",
       "      <td>1</td>\n",
       "      <td>0</td>\n",
       "    </tr>\n",
       "  </tbody>\n",
       "</table>\n",
       "</div>"
      ],
      "text/plain": [
       "      id  test  purchase   site  impressions  income  gender  gamer\n",
       "0   1956     0         0  site1            0     100       1      0\n",
       "1  45821     1         0  site1           20      70       1      0\n",
       "2  59690     1         0  site1           22     100       1      0\n",
       "3  18851     0         0  site1           13      90       1      0\n",
       "4  60647     1         0  site1           12      60       1      0"
      ]
     },
     "execution_count": 191,
     "metadata": {},
     "output_type": "execute_result"
    }
   ],
   "source": [
    "import pandas as pd\n",
    "import numpy as np\n",
    "df = pd.read_excel(\"C:/Users/prath/Documents/Personal/Spring Quarter/BAX 423- Big Data Analytics/Homework 1/GameFun.xlsx\")\n",
    "df.head()"
   ]
  },
  {
   "cell_type": "code",
   "execution_count": 192,
   "id": "c00a3b66",
   "metadata": {},
   "outputs": [
    {
     "data": {
      "text/plain": [
       "(40048, 8)"
      ]
     },
     "execution_count": 192,
     "metadata": {},
     "output_type": "execute_result"
    }
   ],
   "source": [
    "df.shape"
   ]
  },
  {
   "cell_type": "code",
   "execution_count": 193,
   "id": "83e42c8b",
   "metadata": {},
   "outputs": [
    {
     "data": {
      "text/html": [
       "<div>\n",
       "<style scoped>\n",
       "    .dataframe tbody tr th:only-of-type {\n",
       "        vertical-align: middle;\n",
       "    }\n",
       "\n",
       "    .dataframe tbody tr th {\n",
       "        vertical-align: top;\n",
       "    }\n",
       "\n",
       "    .dataframe thead th {\n",
       "        text-align: right;\n",
       "    }\n",
       "</style>\n",
       "<table border=\"1\" class=\"dataframe\">\n",
       "  <thead>\n",
       "    <tr style=\"text-align: right;\">\n",
       "      <th></th>\n",
       "      <th>id</th>\n",
       "      <th>test</th>\n",
       "      <th>purchase</th>\n",
       "      <th>site</th>\n",
       "      <th>impressions</th>\n",
       "      <th>income</th>\n",
       "      <th>gender</th>\n",
       "      <th>gamer</th>\n",
       "    </tr>\n",
       "  </thead>\n",
       "  <tbody>\n",
       "    <tr>\n",
       "      <th>1</th>\n",
       "      <td>45821</td>\n",
       "      <td>1</td>\n",
       "      <td>0</td>\n",
       "      <td>site1</td>\n",
       "      <td>20</td>\n",
       "      <td>70</td>\n",
       "      <td>1</td>\n",
       "      <td>0</td>\n",
       "    </tr>\n",
       "    <tr>\n",
       "      <th>2</th>\n",
       "      <td>59690</td>\n",
       "      <td>1</td>\n",
       "      <td>0</td>\n",
       "      <td>site1</td>\n",
       "      <td>22</td>\n",
       "      <td>100</td>\n",
       "      <td>1</td>\n",
       "      <td>0</td>\n",
       "    </tr>\n",
       "    <tr>\n",
       "      <th>4</th>\n",
       "      <td>60647</td>\n",
       "      <td>1</td>\n",
       "      <td>0</td>\n",
       "      <td>site1</td>\n",
       "      <td>12</td>\n",
       "      <td>60</td>\n",
       "      <td>1</td>\n",
       "      <td>0</td>\n",
       "    </tr>\n",
       "    <tr>\n",
       "      <th>5</th>\n",
       "      <td>30908</td>\n",
       "      <td>1</td>\n",
       "      <td>0</td>\n",
       "      <td>site1</td>\n",
       "      <td>0</td>\n",
       "      <td>40</td>\n",
       "      <td>1</td>\n",
       "      <td>0</td>\n",
       "    </tr>\n",
       "    <tr>\n",
       "      <th>7</th>\n",
       "      <td>4187</td>\n",
       "      <td>1</td>\n",
       "      <td>0</td>\n",
       "      <td>site1</td>\n",
       "      <td>16</td>\n",
       "      <td>80</td>\n",
       "      <td>1</td>\n",
       "      <td>0</td>\n",
       "    </tr>\n",
       "  </tbody>\n",
       "</table>\n",
       "</div>"
      ],
      "text/plain": [
       "      id  test  purchase   site  impressions  income  gender  gamer\n",
       "1  45821     1         0  site1           20      70       1      0\n",
       "2  59690     1         0  site1           22     100       1      0\n",
       "4  60647     1         0  site1           12      60       1      0\n",
       "5  30908     1         0  site1            0      40       1      0\n",
       "7   4187     1         0  site1           16      80       1      0"
      ]
     },
     "execution_count": 193,
     "metadata": {},
     "output_type": "execute_result"
    }
   ],
   "source": [
    "test = df[df['test']==1]\n",
    "test.head()"
   ]
  },
  {
   "cell_type": "code",
   "execution_count": 194,
   "id": "cb23fd02",
   "metadata": {},
   "outputs": [
    {
     "data": {
      "text/html": [
       "<div>\n",
       "<style scoped>\n",
       "    .dataframe tbody tr th:only-of-type {\n",
       "        vertical-align: middle;\n",
       "    }\n",
       "\n",
       "    .dataframe tbody tr th {\n",
       "        vertical-align: top;\n",
       "    }\n",
       "\n",
       "    .dataframe thead th {\n",
       "        text-align: right;\n",
       "    }\n",
       "</style>\n",
       "<table border=\"1\" class=\"dataframe\">\n",
       "  <thead>\n",
       "    <tr style=\"text-align: right;\">\n",
       "      <th></th>\n",
       "      <th>id</th>\n",
       "      <th>test</th>\n",
       "      <th>purchase</th>\n",
       "      <th>site</th>\n",
       "      <th>impressions</th>\n",
       "      <th>income</th>\n",
       "      <th>gender</th>\n",
       "      <th>gamer</th>\n",
       "    </tr>\n",
       "  </thead>\n",
       "  <tbody>\n",
       "    <tr>\n",
       "      <th>0</th>\n",
       "      <td>1956</td>\n",
       "      <td>0</td>\n",
       "      <td>0</td>\n",
       "      <td>site1</td>\n",
       "      <td>0</td>\n",
       "      <td>100</td>\n",
       "      <td>1</td>\n",
       "      <td>0</td>\n",
       "    </tr>\n",
       "    <tr>\n",
       "      <th>3</th>\n",
       "      <td>18851</td>\n",
       "      <td>0</td>\n",
       "      <td>0</td>\n",
       "      <td>site1</td>\n",
       "      <td>13</td>\n",
       "      <td>90</td>\n",
       "      <td>1</td>\n",
       "      <td>0</td>\n",
       "    </tr>\n",
       "    <tr>\n",
       "      <th>6</th>\n",
       "      <td>13352</td>\n",
       "      <td>0</td>\n",
       "      <td>0</td>\n",
       "      <td>site1</td>\n",
       "      <td>0</td>\n",
       "      <td>60</td>\n",
       "      <td>1</td>\n",
       "      <td>0</td>\n",
       "    </tr>\n",
       "    <tr>\n",
       "      <th>9</th>\n",
       "      <td>13373</td>\n",
       "      <td>0</td>\n",
       "      <td>0</td>\n",
       "      <td>site1</td>\n",
       "      <td>20</td>\n",
       "      <td>40</td>\n",
       "      <td>1</td>\n",
       "      <td>0</td>\n",
       "    </tr>\n",
       "    <tr>\n",
       "      <th>16</th>\n",
       "      <td>13400</td>\n",
       "      <td>0</td>\n",
       "      <td>0</td>\n",
       "      <td>site1</td>\n",
       "      <td>2</td>\n",
       "      <td>50</td>\n",
       "      <td>1</td>\n",
       "      <td>0</td>\n",
       "    </tr>\n",
       "  </tbody>\n",
       "</table>\n",
       "</div>"
      ],
      "text/plain": [
       "       id  test  purchase   site  impressions  income  gender  gamer\n",
       "0    1956     0         0  site1            0     100       1      0\n",
       "3   18851     0         0  site1           13      90       1      0\n",
       "6   13352     0         0  site1            0      60       1      0\n",
       "9   13373     0         0  site1           20      40       1      0\n",
       "16  13400     0         0  site1            2      50       1      0"
      ]
     },
     "execution_count": 194,
     "metadata": {},
     "output_type": "execute_result"
    }
   ],
   "source": [
    "control = df[df['test']==0]\n",
    "control.head()"
   ]
  },
  {
   "cell_type": "markdown",
   "id": "6fe7008d",
   "metadata": {},
   "source": [
    "### 1.Before evaluating the effect of an experiment, it is important to make sure that the experiment was executed correctly. Check whether the test and control groups are probabilistically equivalent on their observables"
   ]
  },
  {
   "cell_type": "markdown",
   "id": "383d0941",
   "metadata": {},
   "source": [
    "#### a.More specific, compare the averages of the income, gender and gamer variables in the test and control groups. You should also report the % difference in the averages. Compute its statistical significance. "
   ]
  },
  {
   "cell_type": "code",
   "execution_count": 234,
   "id": "7b1fbff4",
   "metadata": {},
   "outputs": [
    {
     "name": "stdout",
     "output_type": "stream",
     "text": [
      "% difference of incomes in test and control groups are :  -0.41\n",
      "Difference of female in test and control groups are :  0.06\n",
      "Difference of male in test and control groups are :  -0.06\n",
      "Difference of gamers in test and control groups are :  -0.05\n"
     ]
    }
   ],
   "source": [
    "#Income\n",
    "test_income = test.income.mean()\n",
    "control_income = control.income.mean()\n",
    "\n",
    "#Test male and female\n",
    "total_count_test = test['test'].count()\n",
    "\n",
    "female_test = test[test['gender']==0]\n",
    "female_test = female_test['test'].count()\n",
    "female_test_percent = female_test/total_count_test*100\n",
    "male_test = test[test['gender']==1]\n",
    "male_test = male_test['test'].count()\n",
    "male_test_percent = male_test/total_count_test*100\n",
    "\n",
    "#Control male and female\n",
    "total_count_control = control['test'].count()\n",
    "\n",
    "female_control = control[control['gender']==0]\n",
    "female_control = female_control['test'].count()\n",
    "female_control_percent = female_control/total_count_control*100\n",
    "male_control = control[control['gender']==1]\n",
    "male_control = male_control['test'].count()\n",
    "male_control_percent = male_control/total_count_control*100\n",
    "\n",
    "#Test gamer and non gamer\n",
    "test_gamer = test[test['gamer']==1]\n",
    "test_gamer = test_gamer['test'].count()\n",
    "gamer_test_percent = test_gamer/total_count_test*100\n",
    "test_nogamer = test[test['gamer']==0]\n",
    "test_nogamer = test_nogamer['test'].count()\n",
    "nogamer_test_percent = test_nogamer/total_count_test*100\n",
    "\n",
    "#Control gamer and non gamer\n",
    "control_gamer = control[control['gamer']==1]\n",
    "control_gamer = control_gamer['test'].count()\n",
    "gamer_control_percent = control_gamer/total_count_control*100\n",
    "\n",
    "\n",
    "#Difference between the test and control groups for all the above categories\n",
    "percent_diff_income = (test_income-control_income)*100/test_income\n",
    "female_diff = female_test_percent-female_control_percent\n",
    "male_diff = male_test_percent-male_control_percent\n",
    "gamer_diff = gamer_test_percent-gamer_control_percent\n",
    "\n",
    "print('% difference of incomes in test and control groups are : ',round(percent_diff_income,2))\n",
    "print('Difference of female in test and control groups are : ',round(female_diff,2))\n",
    "print('Difference of male in test and control groups are : ',round(male_diff,2))\n",
    "print('Difference of gamers in test and control groups are : ',round(gamer_diff,2))"
   ]
  },
  {
   "cell_type": "code",
   "execution_count": 231,
   "id": "48925fb7",
   "metadata": {},
   "outputs": [
    {
     "name": "stdout",
     "output_type": "stream",
     "text": [
      "p-value for two tailed test for income in test and control is 0.128358\n"
     ]
    }
   ],
   "source": [
    "from scipy import stats\n",
    "t_value, p_value = stats.ttest_ind(test.income,\n",
    "                                   control.income)\n",
    "\n",
    "print('p-value for two tailed test for income in test and control is %f' % p_value)"
   ]
  },
  {
   "cell_type": "code",
   "execution_count": 232,
   "id": "b223806e",
   "metadata": {},
   "outputs": [
    {
     "name": "stdout",
     "output_type": "stream",
     "text": [
      "p-value for two tailed test for gender in test and control is 0.906033\n"
     ]
    }
   ],
   "source": [
    "t_value, p_value = stats.ttest_ind(test.gender,\n",
    "                                   control.gender)\n",
    "\n",
    "print('p-value for two tailed test for gender in test and control is %f' % p_value)"
   ]
  },
  {
   "cell_type": "code",
   "execution_count": 233,
   "id": "388896a0",
   "metadata": {},
   "outputs": [
    {
     "name": "stdout",
     "output_type": "stream",
     "text": [
      "p-value for two tailed test for gamer in test and control is 0.926704\n"
     ]
    }
   ],
   "source": [
    "t_value, p_value = stats.ttest_ind(test.gamer,\n",
    "                                   control.gamer)\n",
    "\n",
    "print('p-value for two tailed test for gamer in test and control is %f' % p_value)"
   ]
  },
  {
   "cell_type": "markdown",
   "id": "66decfa0",
   "metadata": {},
   "source": [
    "#### b. Briefly comment on what these metrics tell you about probabilistic equivalence for this experiment. "
   ]
  },
  {
   "cell_type": "markdown",
   "id": "28c9b2b8",
   "metadata": {},
   "source": [
    "The test and control groups are designed well with probabilistic equivalence. The average mean and demographics proportions between test and control are statistically equal."
   ]
  },
  {
   "cell_type": "markdown",
   "id": "440e5a04",
   "metadata": {},
   "source": [
    "#### c. If you had run this type of analysis BEFORE executing an experiment and found a large difference between test and control groups, what you should do?"
   ]
  },
  {
   "cell_type": "markdown",
   "id": "46fe8b1b",
   "metadata": {},
   "source": [
    "If there is a large difference between the test & control groups, it may indicate that we could get better test set performance with more regularization/introducing more bias to the model. But that does not mean that a smaller gap means a better model; it's just that if we have a small or no gap between control and test set performance, we know we are definitely not overfitting so adding regularization/introducing more bias to the model will not help.\n",
    "However, in order to conduct a better experiment, we would have to re-assign the test and control groups in such a way that they are equivalent probabilistically, demographically and taking all other factors into consideration."
   ]
  },
  {
   "cell_type": "markdown",
   "id": "08aa522d",
   "metadata": {},
   "source": [
    "### 2. Evaluate the average purchase rates in the test and control for the following groups. For each comparison, report the average purchase rate for the test, average purchase rate for the control and the absolute difference (not the % difference) between the test and control\n",
    "\n",
    "### a. Comparison 1: All customers"
   ]
  },
  {
   "cell_type": "code",
   "execution_count": 199,
   "id": "74ac8cca",
   "metadata": {},
   "outputs": [
    {
     "name": "stdout",
     "output_type": "stream",
     "text": [
      "Average purchase rate for all customers in test group (in %):  7.68 %\n",
      "Average purchase rate for all customers in control group (in %):  3.62 %\n",
      "Absolute difference between all customers in control and test group :  0.041\n"
     ]
    }
   ],
   "source": [
    "test_purchase_1 = test[test['purchase']==1].count()\n",
    "control_purchase_1 = control[control['purchase']==1].count()\n",
    "test_total_purchases = test.purchase.count()\n",
    "control_total_purchases = control.purchase.count()\n",
    "test_avg_purchase_rate_allcust = test_purchase_1/test_total_purchases\n",
    "control_avg_purchase_rate_allcust = control_purchase_1/control_total_purchases\n",
    "\n",
    "print('Average purchase rate for all customers in test group (in %): ',round(test_avg_purchase_rate_allcust['purchase']*100,2),'%')\n",
    "print('Average purchase rate for all customers in control group (in %): ',round(control_avg_purchase_rate_allcust['purchase']*100,2),'%')\n",
    "abs_diff = test_avg_purchase_rate_allcust['purchase']-control_avg_purchase_rate_allcust['purchase']\n",
    "print('Absolute difference between all customers in control and test group : ',round(abs_diff,3))"
   ]
  },
  {
   "cell_type": "markdown",
   "id": "840ae8d9",
   "metadata": {},
   "source": [
    "### b. Comparison 2: Male vs Female customers"
   ]
  },
  {
   "cell_type": "code",
   "execution_count": 200,
   "id": "1701b57d",
   "metadata": {},
   "outputs": [
    {
     "name": "stdout",
     "output_type": "stream",
     "text": [
      "Average purchase rate for male customers in test group :  7.46 %\n",
      "Average purchase rate for female customers in test group :  8.09 %\n",
      "Average purchase rate for male customers in control group :  3.72 %\n",
      "Average purchase rate for female customers in control group :  1.87 %\n",
      "Absolute difference between male customers in control and test group :  0.037\n",
      "Absolute difference between female customers in control and test group :  0.062\n"
     ]
    }
   ],
   "source": [
    "male_test =  test[test['gender']==1]\n",
    "female_test = test[test['gender']==0]\n",
    "male_control = control[control['gender']==1]\n",
    "female_control = control[control['gender']==0]\n",
    "\n",
    "maletest_purchase_1 = male_test[male_test['purchase']==1].count()\n",
    "malecontrol_purchase_1 = male_control[male_control['purchase']==1].count()\n",
    "\n",
    "femaletest_purchase_1 = female_test[female_test['purchase']==1].count()\n",
    "femalecontrol_purchase_1 = female_control[female_control['purchase']==1].count()\n",
    "\n",
    "maletest_total_purchases = male_test.purchase.count()\n",
    "femaletest_total_purchases = female_test.purchase.count()\n",
    "malecontrol_total_purchases = male_control.purchase.count()\n",
    "femalecontrol_total_purchases = female_control.purchase.count()\n",
    "\n",
    "maletest_avg_purchase_rate = maletest_purchase_1/maletest_total_purchases\n",
    "femaletest_avg_purchase_rate = femaletest_purchase_1/femaletest_total_purchases\n",
    "malecontrol_avg_purchase_rate = malecontrol_purchase_1/malecontrol_total_purchases\n",
    "femalecontrol_avg_purchase_rate = femalecontrol_purchase_1/malecontrol_total_purchases\n",
    "\n",
    "print('Average purchase rate for male customers in test group : ',round(maletest_avg_purchase_rate['purchase']*100,2),'%')\n",
    "print('Average purchase rate for female customers in test group : ',round(femaletest_avg_purchase_rate['purchase']*100,2),'%')\n",
    "print('Average purchase rate for male customers in control group : ',round(malecontrol_avg_purchase_rate['purchase']*100,2),'%')\n",
    "print('Average purchase rate for female customers in control group : ',round(femalecontrol_avg_purchase_rate['purchase']*100,2),'%')\n",
    "\n",
    "abs_diff_male = maletest_avg_purchase_rate['purchase']-malecontrol_avg_purchase_rate['purchase']\n",
    "print('Absolute difference between male customers in control and test group : ',round(abs_diff_male,3))\n",
    "\n",
    "abs_diff_female = femaletest_avg_purchase_rate['purchase']-femalecontrol_avg_purchase_rate['purchase']\n",
    "print('Absolute difference between female customers in control and test group : ',round(abs_diff_female,3))"
   ]
  },
  {
   "cell_type": "markdown",
   "id": "b45b48c5",
   "metadata": {},
   "source": [
    "### c. Comparison 3: Gamers vs Non-Gamers Customers"
   ]
  },
  {
   "cell_type": "code",
   "execution_count": 201,
   "id": "52504065",
   "metadata": {},
   "outputs": [
    {
     "name": "stdout",
     "output_type": "stream",
     "text": [
      "Average purchase rate for gamer customers in test group :  10.45 %\n",
      "Average purchase rate for non-gamer customers in test group :  3.51 %\n",
      "Average purchase rate for gamer customers in control group :  3.54 %\n",
      "Average purchase rate for non-gamer customers in control group :  2.47 %\n",
      "Absolute difference between gamer customers in control and test group :  0.069\n",
      "Absolute difference between non-gamer customers in control and test group :  0.01\n"
     ]
    }
   ],
   "source": [
    "gamer_test =  test[test['gamer']==1]\n",
    "nongamer_test = test[test['gamer']==0]\n",
    "gamer_control = control[control['gamer']==1]\n",
    "nongamer_control = control[control['gamer']==0]\n",
    "\n",
    "gamertest_purchase_1 = gamer_test[gamer_test['purchase']==1].count()\n",
    "gamercontrol_purchase_1 = gamer_control[gamer_control['purchase']==1].count()\n",
    "\n",
    "nongamertest_purchase_1 = nongamer_test[nongamer_test['purchase']==1].count()\n",
    "nongamercontrol_purchase_1 = nongamer_control[nongamer_control['purchase']==1].count()\n",
    "\n",
    "gamertest_total_purchases = gamer_test.purchase.count()\n",
    "nongamertest_total_purchases = nongamer_test.purchase.count()\n",
    "gamercontrol_total_purchases = gamer_control.purchase.count()\n",
    "nongamercontrol_total_purchases = gamer_control.purchase.count()\n",
    "\n",
    "gamertest_avg_purchase_rate = gamertest_purchase_1/gamertest_total_purchases\n",
    "nongamertest_avg_purchase_rate = nongamertest_purchase_1/nongamertest_total_purchases\n",
    "gamercontrol_avg_purchase_rate = gamercontrol_purchase_1/gamercontrol_total_purchases\n",
    "nongamercontrol_avg_purchase_rate = nongamercontrol_purchase_1/nongamercontrol_total_purchases\n",
    "\n",
    "print('Average purchase rate for gamer customers in test group : ',round(gamertest_avg_purchase_rate['purchase']*100,2),'%')\n",
    "print('Average purchase rate for non-gamer customers in test group : ',round(nongamertest_avg_purchase_rate['purchase']*100,2),'%')\n",
    "print('Average purchase rate for gamer customers in control group : ',round(gamercontrol_avg_purchase_rate['purchase']*100,2),'%')\n",
    "print('Average purchase rate for non-gamer customers in control group : ',round(nongamercontrol_avg_purchase_rate['purchase']*100,2),'%')\n",
    "\n",
    "abs_diff_gamer = gamertest_avg_purchase_rate['purchase']-gamercontrol_avg_purchase_rate['purchase']\n",
    "print('Absolute difference between gamer customers in control and test group : ',round(abs_diff_gamer,3))\n",
    "\n",
    "abs_diff_nongamer = nongamertest_avg_purchase_rate['purchase']-nongamercontrol_avg_purchase_rate['purchase']\n",
    "print('Absolute difference between non-gamer customers in control and test group : ',round(abs_diff_nongamer,3))"
   ]
  },
  {
   "cell_type": "markdown",
   "id": "0bcbbbf1",
   "metadata": {},
   "source": [
    "### d. Comparison 4: Female Gamers vs Male Gamers"
   ]
  },
  {
   "cell_type": "code",
   "execution_count": 202,
   "id": "c3ba377c",
   "metadata": {},
   "outputs": [
    {
     "data": {
      "text/html": [
       "<div>\n",
       "<style scoped>\n",
       "    .dataframe tbody tr th:only-of-type {\n",
       "        vertical-align: middle;\n",
       "    }\n",
       "\n",
       "    .dataframe tbody tr th {\n",
       "        vertical-align: top;\n",
       "    }\n",
       "\n",
       "    .dataframe thead th {\n",
       "        text-align: right;\n",
       "    }\n",
       "</style>\n",
       "<table border=\"1\" class=\"dataframe\">\n",
       "  <thead>\n",
       "    <tr style=\"text-align: right;\">\n",
       "      <th></th>\n",
       "      <th>id</th>\n",
       "      <th>test</th>\n",
       "      <th>purchase</th>\n",
       "      <th>site</th>\n",
       "      <th>impressions</th>\n",
       "      <th>income</th>\n",
       "      <th>gender</th>\n",
       "      <th>gamer</th>\n",
       "    </tr>\n",
       "  </thead>\n",
       "  <tbody>\n",
       "    <tr>\n",
       "      <th>8</th>\n",
       "      <td>40300</td>\n",
       "      <td>1</td>\n",
       "      <td>1</td>\n",
       "      <td>site1</td>\n",
       "      <td>9</td>\n",
       "      <td>80</td>\n",
       "      <td>1</td>\n",
       "      <td>1</td>\n",
       "    </tr>\n",
       "    <tr>\n",
       "      <th>10</th>\n",
       "      <td>13376</td>\n",
       "      <td>1</td>\n",
       "      <td>0</td>\n",
       "      <td>site1</td>\n",
       "      <td>68</td>\n",
       "      <td>60</td>\n",
       "      <td>1</td>\n",
       "      <td>1</td>\n",
       "    </tr>\n",
       "    <tr>\n",
       "      <th>13</th>\n",
       "      <td>66400</td>\n",
       "      <td>1</td>\n",
       "      <td>0</td>\n",
       "      <td>site1</td>\n",
       "      <td>1</td>\n",
       "      <td>50</td>\n",
       "      <td>1</td>\n",
       "      <td>1</td>\n",
       "    </tr>\n",
       "    <tr>\n",
       "      <th>15</th>\n",
       "      <td>59280</td>\n",
       "      <td>1</td>\n",
       "      <td>0</td>\n",
       "      <td>site1</td>\n",
       "      <td>9</td>\n",
       "      <td>60</td>\n",
       "      <td>1</td>\n",
       "      <td>1</td>\n",
       "    </tr>\n",
       "    <tr>\n",
       "      <th>22</th>\n",
       "      <td>10321</td>\n",
       "      <td>1</td>\n",
       "      <td>1</td>\n",
       "      <td>site1</td>\n",
       "      <td>343</td>\n",
       "      <td>50</td>\n",
       "      <td>1</td>\n",
       "      <td>1</td>\n",
       "    </tr>\n",
       "    <tr>\n",
       "      <th>...</th>\n",
       "      <td>...</td>\n",
       "      <td>...</td>\n",
       "      <td>...</td>\n",
       "      <td>...</td>\n",
       "      <td>...</td>\n",
       "      <td>...</td>\n",
       "      <td>...</td>\n",
       "      <td>...</td>\n",
       "    </tr>\n",
       "    <tr>\n",
       "      <th>40035</th>\n",
       "      <td>28922</td>\n",
       "      <td>1</td>\n",
       "      <td>0</td>\n",
       "      <td>site2</td>\n",
       "      <td>2</td>\n",
       "      <td>50</td>\n",
       "      <td>1</td>\n",
       "      <td>1</td>\n",
       "    </tr>\n",
       "    <tr>\n",
       "      <th>40038</th>\n",
       "      <td>13324</td>\n",
       "      <td>1</td>\n",
       "      <td>0</td>\n",
       "      <td>site2</td>\n",
       "      <td>1</td>\n",
       "      <td>40</td>\n",
       "      <td>1</td>\n",
       "      <td>1</td>\n",
       "    </tr>\n",
       "    <tr>\n",
       "      <th>40040</th>\n",
       "      <td>13310</td>\n",
       "      <td>1</td>\n",
       "      <td>0</td>\n",
       "      <td>site2</td>\n",
       "      <td>8</td>\n",
       "      <td>40</td>\n",
       "      <td>1</td>\n",
       "      <td>1</td>\n",
       "    </tr>\n",
       "    <tr>\n",
       "      <th>40042</th>\n",
       "      <td>64401</td>\n",
       "      <td>1</td>\n",
       "      <td>0</td>\n",
       "      <td>site2</td>\n",
       "      <td>185</td>\n",
       "      <td>60</td>\n",
       "      <td>1</td>\n",
       "      <td>1</td>\n",
       "    </tr>\n",
       "    <tr>\n",
       "      <th>40046</th>\n",
       "      <td>42279</td>\n",
       "      <td>1</td>\n",
       "      <td>0</td>\n",
       "      <td>site2</td>\n",
       "      <td>19</td>\n",
       "      <td>50</td>\n",
       "      <td>1</td>\n",
       "      <td>1</td>\n",
       "    </tr>\n",
       "  </tbody>\n",
       "</table>\n",
       "<p>10897 rows × 8 columns</p>\n",
       "</div>"
      ],
      "text/plain": [
       "          id  test  purchase   site  impressions  income  gender  gamer\n",
       "8      40300     1         1  site1            9      80       1      1\n",
       "10     13376     1         0  site1           68      60       1      1\n",
       "13     66400     1         0  site1            1      50       1      1\n",
       "15     59280     1         0  site1            9      60       1      1\n",
       "22     10321     1         1  site1          343      50       1      1\n",
       "...      ...   ...       ...    ...          ...     ...     ...    ...\n",
       "40035  28922     1         0  site2            2      50       1      1\n",
       "40038  13324     1         0  site2            1      40       1      1\n",
       "40040  13310     1         0  site2            8      40       1      1\n",
       "40042  64401     1         0  site2          185      60       1      1\n",
       "40046  42279     1         0  site2           19      50       1      1\n",
       "\n",
       "[10897 rows x 8 columns]"
      ]
     },
     "execution_count": 202,
     "metadata": {},
     "output_type": "execute_result"
    }
   ],
   "source": [
    "malegamer_test =  test[(test['gamer']==1) & (test['gender']==1)]\n",
    "malegamer_test"
   ]
  },
  {
   "cell_type": "code",
   "execution_count": 203,
   "id": "f36e6963",
   "metadata": {},
   "outputs": [
    {
     "name": "stdout",
     "output_type": "stream",
     "text": [
      "Average purchase rate for male-gamer customers in test group (in %):  10.14 %\n",
      "Average purchase rate for female-gamer customers in test group (in %) :  11.01 %\n",
      "Average purchase rate for male-gamer customers in control group (in %):  3.73 %\n",
      "Average purchase rate for female-gamer customers in control group (in %):  3.2 %\n",
      "Absolute difference between male-gamer customers in control and test group:  0.064\n",
      "Absolute difference between female-gamer customers in control and test group:  0.078\n"
     ]
    }
   ],
   "source": [
    "malegamer_test =  test[(test['gamer']==1) & (test['gender']==1)]\n",
    "femalegamer_test =  test[(test['gamer']==1) & (test['gender']==0)]\n",
    "\n",
    "malegamer_control = control[(control['gamer']==1) & (control['gender']==1)]\n",
    "femalegamer_control = control[(control['gamer']==1) & (control['gender']==0)]\n",
    "\n",
    "malegamertest_purchase_1 = malegamer_test[malegamer_test['purchase']==1].count()\n",
    "malegamercontrol_purchase_1 = malegamer_control[malegamer_control['purchase']==1].count()\n",
    "\n",
    "femalegamertest_purchase_1 = femalegamer_test[femalegamer_test['purchase']==1].count()\n",
    "femalegamercontrol_purchase_1 = femalegamer_control[femalegamer_control['purchase']==1].count()\n",
    "\n",
    "malegamertest_total_purchases = malegamer_test.purchase.count()\n",
    "femalegamertest_total_purchases = femalegamer_test.purchase.count()\n",
    "malegamercontrol_total_purchases = malegamer_control.purchase.count()\n",
    "femalegamercontrol_total_purchases = femalegamer_control.purchase.count()\n",
    "\n",
    "malegamertest_avg_purchase_rate = malegamertest_purchase_1/malegamertest_total_purchases\n",
    "femalegamertest_avg_purchase_rate = femalegamertest_purchase_1/femalegamertest_total_purchases\n",
    "malegamercontrol_avg_purchase_rate = malegamercontrol_purchase_1/malegamercontrol_total_purchases\n",
    "femalegamercontrol_avg_purchase_rate = femalegamercontrol_purchase_1/femalegamercontrol_total_purchases\n",
    "\n",
    "print('Average purchase rate for male-gamer customers in test group (in %): ',round(malegamertest_avg_purchase_rate['purchase']*100,2),'%')\n",
    "print('Average purchase rate for female-gamer customers in test group (in %) : ',round(femalegamertest_avg_purchase_rate['purchase']*100,2),'%')\n",
    "print('Average purchase rate for male-gamer customers in control group (in %): ',round(malegamercontrol_avg_purchase_rate['purchase']*100,2),'%')\n",
    "print('Average purchase rate for female-gamer customers in control group (in %): ',round(femalegamercontrol_avg_purchase_rate['purchase']*100,2),'%')\n",
    "\n",
    "abs_diff_malegamer = malegamertest_avg_purchase_rate['purchase']-malegamercontrol_avg_purchase_rate['purchase']\n",
    "print('Absolute difference between male-gamer customers in control and test group: ',round(abs_diff_malegamer,3))\n",
    "\n",
    "abs_diff_femalegamer = femalegamertest_avg_purchase_rate['purchase']-femalegamercontrol_avg_purchase_rate['purchase']\n",
    "print('Absolute difference between female-gamer customers in control and test group: ',round(abs_diff_femalegamer,3))"
   ]
  },
  {
   "cell_type": "markdown",
   "id": "c74d3e59",
   "metadata": {},
   "source": [
    "### 3.Assess the expected revenue in the test vs. control for the following comparisons:\n",
    "### a. Comparison 1: All customers \n"
   ]
  },
  {
   "cell_type": "code",
   "execution_count": 204,
   "id": "109ddd5a",
   "metadata": {},
   "outputs": [
    {
     "name": "stdout",
     "output_type": "stream",
     "text": [
      "The expected revenue in the test group is:  2072.2669182300383\n",
      "The expected revenue in the control group is:  588.0101614117253\n"
     ]
    }
   ],
   "source": [
    "test_purchase_rev = test[test['purchase']==1].count()\n",
    "control_purchase_rev = control[control['purchase']==1].count()\n",
    "test_total_purchases = test.purchase.count()\n",
    "control_total_purchases = control.purchase.count()\n",
    "test_avg_purchase_rate_allcust = test_purchase_rev/test_total_purchases\n",
    "control_avg_purchase_rate_allcust = control_purchase_rev/control_total_purchases\n",
    "\n",
    "test_expected_rev = test_purchase_rev*test_avg_purchase_rate_allcust*12.5\n",
    "control_expected_rev = control_purchase_rev*control_avg_purchase_rate_allcust*37.5\n",
    "\n",
    "print('The expected revenue in the test group is: ',test_expected_rev['test'])\n",
    "print('The expected revenue in the control group is: ',control_expected_rev['test'])"
   ]
  },
  {
   "cell_type": "markdown",
   "id": "0b71aa88",
   "metadata": {},
   "source": [
    "### b. Comparison 4: Female Gamers vs Male Gamers"
   ]
  },
  {
   "cell_type": "code",
   "execution_count": 205,
   "id": "2fd37620",
   "metadata": {},
   "outputs": [
    {
     "name": "stdout",
     "output_type": "stream",
     "text": [
      "The expected revenue by male gamers from test group is:  1400.64\n",
      "The expected revenue by male gamers from control group is:  243.22\n",
      "The expected revenue by female gamers from test group is:  908.26\n",
      "The expected revenue by female gamers from control group is:  97.32\n"
     ]
    }
   ],
   "source": [
    "malegamer_test =  test[(test['gamer']==1) & (test['gender']==1)]\n",
    "femalegamer_test =  test[(test['gamer']==1) & (test['gender']==0)]\n",
    "\n",
    "malegamer_control = control[(control['gamer']==1) & (control['gender']==1)]\n",
    "femalegamer_control = control[(control['gamer']==1) & (control['gender']==0)]\n",
    "\n",
    "malegamertest_purchase_1 = malegamer_test[malegamer_test['purchase']==1].count()\n",
    "malegamercontrol_purchase_1 = malegamer_control[malegamer_control['purchase']==1].count()\n",
    "\n",
    "femalegamertest_purchase_1 = femalegamer_test[femalegamer_test['purchase']==1].count()\n",
    "femalegamercontrol_purchase_1 = femalegamer_control[femalegamer_control['purchase']==1].count()\n",
    "\n",
    "malegamertest_total_purchases = malegamer_test.purchase.count()\n",
    "femalegamertest_total_purchases = femalegamer_test.purchase.count()\n",
    "malegamercontrol_total_purchases = malegamer_control.purchase.count()\n",
    "femalegamercontrol_total_purchases = femalegamer_control.purchase.count()\n",
    "\n",
    "malegamertest_avg_purchase_rate = malegamertest_purchase_1/malegamertest_total_purchases\n",
    "femalegamertest_avg_purchase_rate = femalegamertest_purchase_1/femalegamertest_total_purchases\n",
    "malegamercontrol_avg_purchase_rate = malegamercontrol_purchase_1/malegamercontrol_total_purchases\n",
    "femalegamercontrol_avg_purchase_rate = femalegamercontrol_purchase_1/femalegamercontrol_total_purchases\n",
    "\n",
    "malegamertest_expected_rev = malegamertest_purchase_1*malegamertest_avg_purchase_rate*12.5\n",
    "malegamercontrol_expected_rev = malegamercontrol_purchase_1*malegamercontrol_avg_purchase_rate*37.5\n",
    "femalegamertest_expected_rev = femalegamertest_purchase_1*femalegamertest_avg_purchase_rate*12.5\n",
    "femalegamercontrol_expected_rev = femalegamercontrol_purchase_1*femalegamercontrol_avg_purchase_rate*37.5\n",
    "\n",
    "print('The expected revenue by male gamers from test group is: ',round(malegamertest_expected_rev['test'],2))\n",
    "print('The expected revenue by male gamers from control group is: ',round(malegamercontrol_expected_rev['test'],2))\n",
    "print('The expected revenue by female gamers from test group is: ',round(femalegamertest_expected_rev['test'],2))\n",
    "print('The expected revenue by female gamers from control group is: ',round(femalegamercontrol_expected_rev['test'],2))"
   ]
  },
  {
   "cell_type": "markdown",
   "id": "bc35bb87",
   "metadata": {},
   "source": [
    "### 4.Based on your previous answers, provide a brief recommendation to your management team summarizing the expected financial outcome for Game-Fun.\n",
    "### a. Should Game-Fun run this promotion again in the future? If no, explain why. If yes, should Game-Fun offer it to all customers or a targeted segment."
   ]
  },
  {
   "cell_type": "markdown",
   "id": "ee90bee3",
   "metadata": {},
   "source": [
    "The promotion should definitely be run again as we see in the above question that the total expected revenue by the test group is 2012 dollars whereas the revenue from the contorl group is 588 dollars. This clearly shows the promotion is impacting the customers choices.\n",
    "\n",
    "When we dive deep into the contribution of the test group we see that both the genders who are gamers are being hugely affected by the promotion. \n",
    "\n",
    "Again, in the above question we see that in case of male gamers the expected revenue is 243 dollars when 'NO' campaign is run whereas it shoots up to 1400 dollars when the promotion is run. This is almost 3 times increase in the revenue.\n",
    "\n",
    "Similarly,  in case of female gamers the expected revenue is 97 dollars when 'NO' campaign is run whereas it shoots up to 908 dollars when the promotion is run. This is almost 9 times increase in the revenue.\n",
    "\n",
    "We see that the increase is the same in both cases and is pretty high. Therefore, in the next promotion focusing on the male and female gamers would ideally tend to bring about more revenue."
   ]
  },
  {
   "cell_type": "markdown",
   "id": "81b3a52c",
   "metadata": {},
   "source": [
    "# Exercise 2: Non-Compliance in Randomized Experiments"
   ]
  },
  {
   "cell_type": "markdown",
   "id": "f92fef4c",
   "metadata": {},
   "source": [
    "### 1. The first data scientist advised that one should compare the survival rate of babieswhose mothers were offered Vitamin A shots to the survival rate of babies whosemothers were not offered a Vitamin A shot.\n",
    "#### a. What percent of babies whose mothers were offered Vitamin A shots for their babies died?"
   ]
  },
  {
   "cell_type": "code",
   "execution_count": 206,
   "id": "d00ee399",
   "metadata": {
    "scrolled": true
   },
   "outputs": [
    {
     "data": {
      "text/html": [
       "<div>\n",
       "<style scoped>\n",
       "    .dataframe tbody tr th:only-of-type {\n",
       "        vertical-align: middle;\n",
       "    }\n",
       "\n",
       "    .dataframe tbody tr th {\n",
       "        vertical-align: top;\n",
       "    }\n",
       "\n",
       "    .dataframe thead th {\n",
       "        text-align: right;\n",
       "    }\n",
       "</style>\n",
       "<table border=\"1\" class=\"dataframe\">\n",
       "  <thead>\n",
       "    <tr style=\"text-align: right;\">\n",
       "      <th></th>\n",
       "      <th>instrument</th>\n",
       "      <th>treatment</th>\n",
       "      <th>outcome</th>\n",
       "    </tr>\n",
       "  </thead>\n",
       "  <tbody>\n",
       "    <tr>\n",
       "      <th>0</th>\n",
       "      <td>0</td>\n",
       "      <td>0</td>\n",
       "      <td>0</td>\n",
       "    </tr>\n",
       "    <tr>\n",
       "      <th>1</th>\n",
       "      <td>0</td>\n",
       "      <td>0</td>\n",
       "      <td>0</td>\n",
       "    </tr>\n",
       "    <tr>\n",
       "      <th>2</th>\n",
       "      <td>0</td>\n",
       "      <td>0</td>\n",
       "      <td>0</td>\n",
       "    </tr>\n",
       "    <tr>\n",
       "      <th>3</th>\n",
       "      <td>0</td>\n",
       "      <td>0</td>\n",
       "      <td>0</td>\n",
       "    </tr>\n",
       "    <tr>\n",
       "      <th>4</th>\n",
       "      <td>0</td>\n",
       "      <td>0</td>\n",
       "      <td>0</td>\n",
       "    </tr>\n",
       "  </tbody>\n",
       "</table>\n",
       "</div>"
      ],
      "text/plain": [
       "   instrument  treatment  outcome\n",
       "0           0          0        0\n",
       "1           0          0        0\n",
       "2           0          0        0\n",
       "3           0          0        0\n",
       "4           0          0        0"
      ]
     },
     "execution_count": 206,
     "metadata": {},
     "output_type": "execute_result"
    }
   ],
   "source": [
    "df1 =  pd.read_csv(\"C:/Users/prath/Documents/Personal/Spring Quarter/BAX 423- Big Data Analytics/Homework 1/sommer_deger.csv\")\n",
    "df1.head()"
   ]
  },
  {
   "cell_type": "code",
   "execution_count": 207,
   "id": "505c6898",
   "metadata": {},
   "outputs": [
    {
     "data": {
      "text/plain": [
       "(23682, 3)"
      ]
     },
     "execution_count": 207,
     "metadata": {},
     "output_type": "execute_result"
    }
   ],
   "source": [
    "df1.shape"
   ]
  },
  {
   "cell_type": "code",
   "execution_count": 208,
   "id": "fa5eb338",
   "metadata": {},
   "outputs": [],
   "source": [
    "instrument = df1['instrument']\n",
    "treatment = df1['treatment']\n",
    "outcome = df1['outcome']"
   ]
  },
  {
   "cell_type": "code",
   "execution_count": 209,
   "id": "5e0e8649",
   "metadata": {
    "scrolled": true
   },
   "outputs": [
    {
     "data": {
      "text/plain": [
       "True     12094\n",
       "False    11588\n",
       "Name: instrument, dtype: int64"
      ]
     },
     "execution_count": 209,
     "metadata": {},
     "output_type": "execute_result"
    }
   ],
   "source": [
    "(df1['instrument'] == 1).value_counts()"
   ]
  },
  {
   "cell_type": "code",
   "execution_count": 210,
   "id": "b1de7797",
   "metadata": {},
   "outputs": [],
   "source": [
    "mother_dose = df1[df1['instrument'] == 1]\n",
    "mother_nodose = df1[df1['instrument'] == 0]\n",
    "\n",
    "babies_dose = df1[df1['treatment'] == 1]\n",
    "babies_nodose = df1[df1['treatment'] == 0]\n",
    "\n",
    "babies_survived = df1[df1['outcome'] == 0]\n",
    "babies_died = df1[df1['outcome'] == 1]"
   ]
  },
  {
   "cell_type": "code",
   "execution_count": 211,
   "id": "7a98e261",
   "metadata": {},
   "outputs": [
    {
     "name": "stdout",
     "output_type": "stream",
     "text": [
      "Percent of babies whose mothers were offered Vitamin A shots for their babies died:  0.38 %\n"
     ]
    }
   ],
   "source": [
    "mothers_dose = df1[(df1['instrument']==1)]\n",
    "babies_died = mothers_dose[(mothers_dose['outcome']==1)]\n",
    "percent_death_mothers_dose = (babies_died['outcome'].count()/mothers_dose['instrument'].count())*100\n",
    "\n",
    "print(\"Percent of babies whose mothers were offered Vitamin A shots for their babies died: \", round(percent_death_mothers_dose, 2), \"%\")"
   ]
  },
  {
   "cell_type": "markdown",
   "id": "6ce7f630",
   "metadata": {},
   "source": [
    "#### b. What percent of babies whose mothers were not offered Vitamin A shots for their babies died?"
   ]
  },
  {
   "cell_type": "code",
   "execution_count": 212,
   "id": "0db80962",
   "metadata": {},
   "outputs": [
    {
     "name": "stdout",
     "output_type": "stream",
     "text": [
      "Percent of babies whose mothers were NOT offered Vitamin A shots for their babies died:  0.64 %\n"
     ]
    }
   ],
   "source": [
    "mothers_nodose = df1[(df1['instrument']==0)]\n",
    "babies_died = mothers_nodose[(mothers_nodose['outcome']==1)]\n",
    "percent_death_mothers_nodose = (babies_died['outcome'].count()/mothers_nodose['instrument'].count())*100\n",
    "\n",
    "print(\"Percent of babies whose mothers were NOT offered Vitamin A shots for their babies died: \", round(percent_death_mothers_nodose, 2), \"%\")"
   ]
  },
  {
   "cell_type": "markdown",
   "id": "16bbbfa4",
   "metadata": {},
   "source": [
    "#### c. What is the difference in mortality, and under what assumptions is the difference between these two percentages a valid estimate of the causal impact of receiving vitamin A shots on survival?"
   ]
  },
  {
   "cell_type": "markdown",
   "id": "a1cac0a1",
   "metadata": {},
   "source": [
    "The mortality difference is around a quarter of a percent. We've found that if women aren't given the proper dosage, the number of babies who die rises by 25%. However, we can see that some mothers refuse to give their newborns vaccinations despite being offered them. As a result, there is a self-selection bias that is not taken into account in this scenario.\n",
    "\n",
    "Certain assumptions that could help in this scenario are:\n",
    "- There is a probabilistic equivalence between the test and control\n",
    "- No spillovers\n",
    "- No self-selection bias (as mentioned above)\n",
    "- All the mothers who are offered vitamin A has actually given the vitamin to the babies"
   ]
  },
  {
   "cell_type": "markdown",
   "id": "f30c3f19",
   "metadata": {},
   "source": [
    "### 2. The second data scientist advised that one should compare the survival rates of babies who received Vitamin A shots to babies who did not receive Vitamin A shots.\n",
    "#### a. What percent of babies who received Vitamin A shots died?"
   ]
  },
  {
   "cell_type": "code",
   "execution_count": 213,
   "id": "0635d122",
   "metadata": {},
   "outputs": [
    {
     "name": "stdout",
     "output_type": "stream",
     "text": [
      "Percent of babies who received Vitamin A shots died:  0.124 %\n"
     ]
    }
   ],
   "source": [
    "babies_dose = df1[(df1['treatment']==1)]\n",
    "babies_died = babies_dose[(babies_dose['outcome']==1)]\n",
    "percent_death_babies_dose = babies_died['outcome'].count()/babies_dose['treatment'].count()*100\n",
    "\n",
    "print(\"Percent of babies who received Vitamin A shots died: \", round(percent_death_babies_dose, 3), \"%\")"
   ]
  },
  {
   "cell_type": "markdown",
   "id": "25a649c7",
   "metadata": {},
   "source": [
    "#### b. What percent of babies who did not receive Vitamin A shots died?"
   ]
  },
  {
   "cell_type": "code",
   "execution_count": 214,
   "id": "677f9a59",
   "metadata": {},
   "outputs": [
    {
     "name": "stdout",
     "output_type": "stream",
     "text": [
      "Percent of babies who did NOT receive Vitamin A shots died:  0.77 %\n"
     ]
    }
   ],
   "source": [
    "babies_nodose = df1[(df1['treatment']==0)]\n",
    "babies_died = babies_nodose[(babies_nodose['outcome']==1)]\n",
    "percent_death_babies_nodose = babies_died['outcome'].count()/babies_nodose['treatment'].count()*100\n",
    "\n",
    "print(\"Percent of babies who did NOT receive Vitamin A shots died: \", round(percent_death_babies_nodose, 2), \"%\")"
   ]
  },
  {
   "cell_type": "markdown",
   "id": "ab5733bf",
   "metadata": {},
   "source": [
    "#### c. What is the difference in mortality, and under what assumptions is the difference between these two percentages a valid estimate of the causal impact of receiving vitamin A shots on survival?"
   ]
  },
  {
   "cell_type": "markdown",
   "id": "dddddcb6",
   "metadata": {},
   "source": [
    "The difference between newborns who received the dose and those who did not is approximately 65%. When given to babies directly, the dose has a greater impact than when given to moms. But there's one more factor to consider: those who didn't get shots are a mix of babies whose mothers were offered shots but didn't take them, as well as babies whose moms were not offered shots and couldn't take them.\n",
    "\n",
    "When the babies who did not receive injections were those whose moms were not offered shots, the difference between these two percentages can be a reasonable indication of the causal influence of receiving vitamin A shots on survival.\n",
    "\n",
    "Certain assumptions that could help in this scenario are:\n",
    "- There is a probabilistic equivalence between the test and control\n",
    "- No spillovers\n",
    "- No self-selection bias (as mentioned above)\n",
    "- All the mothers who are offered vitamin A has actually given the vitamin to the babies"
   ]
  },
  {
   "cell_type": "markdown",
   "id": "3f363582",
   "metadata": {},
   "source": [
    "### 3. The third data scientist advised that one should consider only babies whose motherswere offered Vitamin A shots, and compare babies who received shots to babies whodid not receive shots.\n",
    "#### a. What percent of babies who received Vitamin A shots died?"
   ]
  },
  {
   "cell_type": "code",
   "execution_count": 215,
   "id": "edcfb11e",
   "metadata": {},
   "outputs": [
    {
     "name": "stdout",
     "output_type": "stream",
     "text": [
      "Percent of babies who received Vitamin A shots died:  0.124 %\n"
     ]
    }
   ],
   "source": [
    "babies_dose = df1[(df1['treatment']==1)]\n",
    "babies_died = babies_dose[(babies_dose['outcome']==1)]\n",
    "percent_death_died_dose = babies_died['outcome'].count()/babies_dose['treatment'].count()*100\n",
    "\n",
    "print(\"Percent of babies who received Vitamin A shots died: \", round(percent_death_died_dose, 3), \"%\")"
   ]
  },
  {
   "cell_type": "markdown",
   "id": "c4124a55",
   "metadata": {},
   "source": [
    "#### b. What percent of babies whose mothers were offered Vitamin A shots, but themothers did not accept them, died?"
   ]
  },
  {
   "cell_type": "code",
   "execution_count": 216,
   "id": "6cac68cc",
   "metadata": {},
   "outputs": [
    {
     "name": "stdout",
     "output_type": "stream",
     "text": [
      "Percent of babies whose mothers were offered Vitamin A shots, but the mothers did not accept them, died:  1.406 %\n"
     ]
    }
   ],
   "source": [
    "mothers_accepted_dose = mothers_dose[mothers_dose['treatment'] == 1]\n",
    "mothers_rejected_dose = mothers_dose[mothers_dose['treatment'] == 0]\n",
    "\n",
    "total_mothers_rejected_dose = mothers_rejected_dose['treatment'].count()\n",
    "didnt_survive_mothers_rejected_dose = mothers_rejected_dose[mothers_rejected_dose['outcome'] == 1]['treatment'].count()\n",
    "percent_mothers_rejected_dose_died = didnt_survive_mothers_rejected_dose/total_mothers_rejected_dose*100\n",
    "\n",
    "print(\"Percent of babies whose mothers were offered Vitamin A shots, but the mothers did not accept them, died: \", round(percent_mothers_rejected_dose_died, 3), \"%\")\n"
   ]
  },
  {
   "cell_type": "markdown",
   "id": "255d9e0c",
   "metadata": {},
   "source": [
    "#### c. What is the difference in mortality, and under what assumptions is the difference between these two percentages a valid estimate of the causal impact of receiving vitamin A shots on survival?"
   ]
  },
  {
   "cell_type": "markdown",
   "id": "2e8a0726",
   "metadata": {},
   "source": [
    "The difference between these two percentages can be a valid estimate of the causal impact of receiving vitamin A shots on survival if the proportion of the babies (whose mothers were offered shots) and received the shot and the proportion of the babies (whose mothers were offered shots) and did not receive the shot are probabilistically equivalent. But we can not control that in this case.\n",
    "\n",
    "Certain assumptions that could help in this scenario are:\n",
    "- There is a probabilistic equivalence between the test and control\n",
    "- No spillovers\n",
    "- No self-selection bias (as mentioned above)"
   ]
  },
  {
   "cell_type": "markdown",
   "id": "f5d55b8e",
   "metadata": {},
   "source": [
    "### 4. The fourth data scientist suggested the following Wald estimator for the effect of Vitamin A shots on mortality\n",
    "#### a. Compute the above Wald estimate for the given dataset."
   ]
  },
  {
   "cell_type": "code",
   "execution_count": 220,
   "id": "68ebf493",
   "metadata": {},
   "outputs": [
    {
     "name": "stdout",
     "output_type": "stream",
     "text": [
      "Wald Estimate:  -0.0032\n"
     ]
    }
   ],
   "source": [
    "total_mothers_accepted_dose = mothers_accepted_dose['treatment'].count()\n",
    "total = mother_dose['instrument'].count()\n",
    "percent_mother_offered_baby_received = total_mothers_accepted_dose*100/total\n",
    "wald_estimate = (percent_death_mothers_dose - percent_death_mothers_nodose)/percent_mother_offered_baby_received\n",
    "\n",
    "print(\"Wald Estimate: \", round(wald_estimate, 4))"
   ]
  },
  {
   "cell_type": "markdown",
   "id": "1b54615d",
   "metadata": {},
   "source": [
    "#### b. Under what assumptions is this estimate a valid estimate of the causal impact of vitamin A shots on survival?"
   ]
  },
  {
   "cell_type": "markdown",
   "id": "84937338",
   "metadata": {},
   "source": [
    "We adjust for the underestimation of the actual treatment impact by utilizing Wald's estimate. Under the premise that we are underestimating the treatment effect in the first place, the estimation of the causal effect of obtaining vitamin A shots will be valid. It's possible that mothers' self-selection bias for not getting the shot stems from the fact that they were already sick and on the verge of dying. This could lead to an overestimation of the treatment's effectiveness. This is not the case with the control group, which is made up entirely of compliers and thus is unbiased, and randomization would handle such situations. We also assume that there is no self-selection in the treatment group.\n",
    "\n",
    "Certain assumptions that could help in this scenario are:\n",
    "- There is a probabilistic equivalence between the test and control\n",
    "- No spillovers\n",
    "- No self-selection bias (as mentioned above)\n",
    "- All the mothers who are offered vitamin A has actually given the vitamin to the babies"
   ]
  },
  {
   "cell_type": "markdown",
   "id": "4e896cb1",
   "metadata": {},
   "source": [
    "#### c. What is the standard error for the intent-to-treat estimate recommended by the first data scientist? What is the standard error for the Wald estimate recommended by the fourth data scientist?"
   ]
  },
  {
   "cell_type": "code",
   "execution_count": 227,
   "id": "9cf10ba6",
   "metadata": {},
   "outputs": [],
   "source": [
    "#Regressing Treatment variable on Instrument Variable\n",
    "import statsmodels.api as sm\n",
    "\n",
    "y = treatment\n",
    "x = sm.add_constant(instrument)\n",
    "\n",
    "model1 = sm.OLS(y,x)"
   ]
  },
  {
   "cell_type": "code",
   "execution_count": 228,
   "id": "c81a6056",
   "metadata": {},
   "outputs": [
    {
     "name": "stdout",
     "output_type": "stream",
     "text": [
      "                            OLS Regression Results                            \n",
      "==============================================================================\n",
      "Dep. Variable:              treatment   R-squared:                       0.662\n",
      "Model:                            OLS   Adj. R-squared:                  0.662\n",
      "Method:                 Least Squares   F-statistic:                 4.634e+04\n",
      "Date:                Fri, 08 Apr 2022   Prob (F-statistic):               0.00\n",
      "Time:                        08:26:05   Log-Likelihood:                -3947.2\n",
      "No. Observations:               23682   AIC:                             7898.\n",
      "Df Residuals:                   23680   BIC:                             7915.\n",
      "Df Model:                           1                                         \n",
      "Covariance Type:            nonrobust                                         \n",
      "==============================================================================\n",
      "                 coef    std err          t      P>|t|      [0.025      0.975]\n",
      "------------------------------------------------------------------------------\n",
      "const       -3.76e-15      0.003  -1.42e-12      1.000      -0.005       0.005\n",
      "instrument     0.8000      0.004    215.275      0.000       0.793       0.807\n",
      "==============================================================================\n",
      "Omnibus:                     9234.438   Durbin-Watson:                   0.001\n",
      "Prob(Omnibus):                  0.000   Jarque-Bera (JB):            28548.614\n",
      "Skew:                          -2.099   Prob(JB):                         0.00\n",
      "Kurtosis:                       6.363   Cond. No.                         2.64\n",
      "==============================================================================\n",
      "\n",
      "Notes:\n",
      "[1] Standard Errors assume that the covariance matrix of the errors is correctly specified.\n"
     ]
    }
   ],
   "source": [
    "results1 = model1.fit()\n",
    "print(results1.summary())"
   ]
  },
  {
   "cell_type": "code",
   "execution_count": 229,
   "id": "fd9a8b08",
   "metadata": {},
   "outputs": [],
   "source": [
    "y_hat = results1.predict(x)"
   ]
  },
  {
   "cell_type": "code",
   "execution_count": 230,
   "id": "635211cf",
   "metadata": {},
   "outputs": [
    {
     "name": "stdout",
     "output_type": "stream",
     "text": [
      "                            OLS Regression Results                            \n",
      "==============================================================================\n",
      "Dep. Variable:                outcome   R-squared:                       0.000\n",
      "Model:                            OLS   Adj. R-squared:                  0.000\n",
      "Method:                 Least Squares   F-statistic:                     7.830\n",
      "Date:                Fri, 08 Apr 2022   Prob (F-statistic):            0.00514\n",
      "Time:                        08:26:54   Log-Likelihood:                 29040.\n",
      "No. Observations:               23682   AIC:                        -5.808e+04\n",
      "Df Residuals:                   23680   BIC:                        -5.806e+04\n",
      "Df Model:                           1                                         \n",
      "Covariance Type:            nonrobust                                         \n",
      "==============================================================================\n",
      "                 coef    std err          t      P>|t|      [0.025      0.975]\n",
      "------------------------------------------------------------------------------\n",
      "const          0.0064      0.001      9.683      0.000       0.005       0.008\n",
      "0             -0.0032      0.001     -2.798      0.005      -0.005      -0.001\n",
      "==============================================================================\n",
      "Omnibus:                    43237.828   Durbin-Watson:                   0.042\n",
      "Prob(Omnibus):                  0.000   Jarque-Bera (JB):         37228295.628\n",
      "Skew:                          13.934   Prob(JB):                         0.00\n",
      "Kurtosis:                     195.228   Cond. No.                         2.98\n",
      "==============================================================================\n",
      "\n",
      "Notes:\n",
      "[1] Standard Errors assume that the covariance matrix of the errors is correctly specified.\n"
     ]
    }
   ],
   "source": [
    "#Regressing Output on Y_hat\n",
    "y2 = outcome\n",
    "\n",
    "x2 = sm.add_constant(y_hat)\n",
    "model2 = sm.OLS(y2,x2)\n",
    "\n",
    "results2 = model2.fit()\n",
    "print(results2.summary())"
   ]
  },
  {
   "cell_type": "markdown",
   "id": "6d4716bd",
   "metadata": {},
   "source": [
    "#### i. Which one is larger and why? "
   ]
  },
  {
   "cell_type": "markdown",
   "id": "ee48cb37",
   "metadata": {},
   "source": [
    "The standard error of the intent-to-treat estimate is larger than the standard error of the wald estimate due to intrinsic bias (self selection bias) in the treatment variable. We attempt to correct the bias in the initial treatment variable in order to forecast the mortality rate from the anticipated intent-to-treat; as a result, we are able to derive a tighter bound (lower standard error) for the Wald's estimate.\n",
    "\n",
    "As a result, the intent-to-treat estimate's standard error is higher."
   ]
  },
  {
   "cell_type": "markdown",
   "id": "d1f3ff22",
   "metadata": {},
   "source": [
    "#### ii. Why might these standard errors be biased? What information would you ideally want to have to address this bias?"
   ]
  },
  {
   "cell_type": "markdown",
   "id": "372112d2",
   "metadata": {},
   "source": [
    "Because of the bias in the data, these standard errors may be skewed. We simply assumed that the data is normally distributed and meets the OLS assumptions, but this is not always the case. As a result, implicit bias in the data, particularly in the treatment variable (where we have non-compliers), biases the sample, which biases our standard errors.\n",
    "\n",
    "We'll need more information about the non-compliers in the treatment variable to estimate the bias. We'll need to know why the mothers who were offered vaccinations for their children declined them. We will then be able to address the problem by quantifying the bias."
   ]
  }
 ],
 "metadata": {
  "kernelspec": {
   "display_name": "Python 3",
   "language": "python",
   "name": "python3"
  },
  "language_info": {
   "codemirror_mode": {
    "name": "ipython",
    "version": 3
   },
   "file_extension": ".py",
   "mimetype": "text/x-python",
   "name": "python",
   "nbconvert_exporter": "python",
   "pygments_lexer": "ipython3",
   "version": "3.8.8"
  }
 },
 "nbformat": 4,
 "nbformat_minor": 5
}
